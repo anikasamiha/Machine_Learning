# -*- coding: utf-8 -*-
#loading necessary libraries

import numpy as np
import matplotlib.pyplot as plt
import seaborn as sns; sns.set()

from sklearn.datasets import fetch_20newsgroups
data = fetch_20newsgroups()
data.target_names

#defining all catagories
categories = ['alt.atheism', 'comp.graphics', 'comp.os.ms-windows.misc', 'comp.sys.ibm.pc.hardware'
              , 'comp.sys.mac.hardware', 'comp.windows.x', 'misc.forsale', 'rec.autos', 'rec.motorcycles'
              , 'rec.sport.baseball', 'rec.sport.hockey', 'sci.crypt', 'sci.electronics', 'sci.med', 'sci.space'
              , 'soc.religion.christian', 'talk.politics.guns', 'talk.politics.mideast', 'talk.politics.misc'
              , 'talk.religion.misc']
#training the data on these catagories
train = fetch_20newsgroups(subset='train', categories=categories)
#testing the data on these catagories
test = fetch_20newsgroups(subset='test', categories=categories)

#printing training data
print(train.data[5])

#importing necessary packages
from sklearn.feature_extraction.text import TfidfVectorizer
from sklearn.naive_bayes import MultinomialNB
from sklearn.pipeline import make_pipeline

#creating a model based on multinomial naive-bayes
model = make_pipeline(TfidfVectorizer(), MultinomialNB())

#training the model with train data
model.fit(train.data, train.target)

#creating labels for test data
labels = model.predict(test.data)



#importing necessary packages
from sklearn.feature_extraction.text import TfidfVectorizer
from sklearn.naive_bayes import MultinomialNB
from sklearn.pipeline import make_pipeline

#creating a model based on multinomial naive-bayesp
model = make_pipeline(TfidfVectorizer(), MultinomialNB())

#training the model with train data
model.fit(train.data, train.target)

#creating labels for test data
labels = model.predict(test.data)


#creating confusion matrix and heat map
from sklearn.metrics import confusion_matrix
mat = confusion_matrix(test.target, labels)
sns.heatmap(mat.T, square=True, annot=True, fmt='d', cbar=False, xticklabels=train.target_names,
            yticklabels=train.target_names)

#plotting heatmap on confusion matrix
plt.xlabel('true label')
plt.ylabel('predicted label');



#predicting catagory on new data based on trained model
def predict_category(s, train=train, model=model):
    pred = model.predict([s])
    return train.target_names[pred[0]]


predict_category('samiul salehin')
predict_category('islam')
predict_category('anika samiha hossain')
predict_category('space station')
predict_category('audi is better than bmw')
predict_category('president of Bangladesh')
predict_category('harley davidson')


